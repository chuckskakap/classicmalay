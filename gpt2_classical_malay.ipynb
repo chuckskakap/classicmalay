{
  "nbformat": 4,
  "nbformat_minor": 0,
  "metadata": {
    "colab": {
      "provenance": [],
      "gpuType": "T4"
    },
    "kernelspec": {
      "name": "python3",
      "display_name": "Python 3"
    },
    "language_info": {
      "name": "python"
    },
    "accelerator": "GPU"
  },
  "cells": [
    {
      "cell_type": "code",
      "source": [
        "import gspread\n",
        "import pandas as pd\n",
        "import numpy as np\n",
        "from keras.models import load_model\n"
      ],
      "metadata": {
        "id": "OT49NRA8jaAb"
      },
      "execution_count": null,
      "outputs": []
    },
    {
      "cell_type": "code",
      "execution_count": null,
      "metadata": {
        "id": "5joGL5GPjMyw"
      },
      "outputs": [],
      "source": [
        "gsheetid = \"191YRBsdUEGtgXvWl428L9xt48Ah5zcyoRK1pvNhUDPM\"\n",
        "sheet_name = \"Sheet2\"\n",
        "\n",
        "gsheet_url = \"https://docs.google.com/spreadsheets/d/{}/gviz/tq?tqx=out:csv&sheet={}\".format(gsheetid, sheet_name)"
      ]
    },
    {
      "cell_type": "code",
      "source": [
        "df = pd.read_csv(gsheet_url)\n",
        "df = df.iloc[:, 0:3]\n",
        "print(df)"
      ],
      "metadata": {
        "colab": {
          "base_uri": "https://localhost:8080/"
        },
        "id": "9UYoP3HCjjAb",
        "outputId": "087809c3-cd64-4a48-b964-8f241e8339eb"
      },
      "execution_count": null,
      "outputs": [
        {
          "output_type": "stream",
          "name": "stdout",
          "text": [
            "      subheading                                             pantun  \\\n",
            "0   mukaddimah_a  Tetak buluh panjang suluh,\\r\\nMari jolok saran...   \n",
            "1   mukaddimah_b  Tetak buluh panjang suluh,\\r\\nMari jolok saran...   \n",
            "2    hikayat_1_a  Medang sila buahnya cantik,\\r\\nJatuh menimpa k...   \n",
            "3    hikayat_2_a  Hendak mencari si ikan belida,\\r\\nTerpancing p...   \n",
            "4    hikayat_2_b  Hendak mencari si ikan belida,\\r\\nTerpancing p...   \n",
            "..           ...                                                ...   \n",
            "82  hikayat_29_b  Baik-baik mengirai padi,\\r\\nTakut mercik ke mu...   \n",
            "83  hikayat_29_c  Baik-baik mengirai padi,\\r\\nTakut mercik ke mu...   \n",
            "84  hikayat_29_d  Baik-baik mengirai padi,\\r\\nTakut mercik ke mu...   \n",
            "85  hikayat_29_e  Baik-baik mengirai padi,\\r\\nTakut mercik ke mu...   \n",
            "86    khatimah_a  Tinggi bukit gilang-gemilang,\\r\\nAir laut tena...   \n",
            "\n",
            "                                              content  \n",
            "0   Dia ternganga. Tidak menyangka akan ditinggalk...  \n",
            "1   Angin menderu-deru, biasan pertembungan antara...  \n",
            "2    “Di manakah budak itu?” \\r\\nBagai halilintar,...  \n",
            "3   Api marak meliang-liuk diserbu angin, menerang...  \n",
            "4   “Allahu akbar.”\\r\\n\\tJeda sedetik.\\r\\n\\t“Attah...  \n",
            "..                                                ...  \n",
            "82  “Engkau tidak biasa bertarung dengan mata tert...  \n",
            "83  “Lemah!” \\r\\nNujum Surya menghantar Cendana me...  \n",
            "84  Medan pertempuran semakin tenang. Tentera Inde...  \n",
            "85  Nirnama tidak lagi berbaju. Yang tinggal hanya...  \n",
            "86  Angin sepoi-sepoi bahasa membelai tubuh, umpam...  \n",
            "\n",
            "[87 rows x 3 columns]\n"
          ]
        }
      ]
    },
    {
      "cell_type": "code",
      "source": [
        "df['content'] = df['content'].str.lower().str.replace('\\r\\n', '').str.replace('\\t', '').str.replace('\\n', '').str.replace('       ','')"
      ],
      "metadata": {
        "id": "Yx_S5JOpoSzE"
      },
      "execution_count": null,
      "outputs": []
    },
    {
      "cell_type": "code",
      "source": [
        "df['content']"
      ],
      "metadata": {
        "colab": {
          "base_uri": "https://localhost:8080/"
        },
        "id": "U6248AAPm2Xt",
        "outputId": "268c643a-160b-4224-cbae-1b0fda13fa6c"
      },
      "execution_count": null,
      "outputs": [
        {
          "output_type": "execute_result",
          "data": {
            "text/plain": [
              "0     dia ternganga. tidak menyangka akan ditinggalk...\n",
              "1     angin menderu-deru, biasan pertembungan antara...\n",
              "2      “di manakah budak itu?” bagai halilintar, sua...\n",
              "3     api marak meliang-liuk diserbu angin, menerang...\n",
              "4     “allahu akbar.”jeda sedetik.“attahiyyatul muba...\n",
              "                            ...                        \n",
              "82    “engkau tidak biasa bertarung dengan mata tert...\n",
              "83    “lemah!” nujum surya menghantar cendana melaya...\n",
              "84    medan pertempuran semakin tenang. tentera inde...\n",
              "85    nirnama tidak lagi berbaju. yang tinggal hanya...\n",
              "86    angin sepoi-sepoi bahasa membelai tubuh, umpam...\n",
              "Name: content, Length: 87, dtype: object"
            ]
          },
          "metadata": {},
          "execution_count": 5
        }
      ]
    },
    {
      "cell_type": "code",
      "source": [
        "df['content'][1]"
      ],
      "metadata": {
        "colab": {
          "base_uri": "https://localhost:8080/",
          "height": 110
        },
        "id": "v6vYw4NlobMn",
        "outputId": "948df503-14b4-4434-e77f-cb8991b0550e"
      },
      "execution_count": null,
      "outputs": [
        {
          "output_type": "execute_result",
          "data": {
            "text/plain": [
              "'angin menderu-deru, biasan pertembungan antara dia dan satu lembaga di hadapannya. semakin lama mereka bertarung, semakin jelas susuk lawannya itu. seorang lelaki, berwajah garang dengan misai dan janggut yang sedikit tebal. rambutnya pendek dan kemas, bertanjak megah, berpakaian pendekar yang diperbuat daripada kain yang terbaik lagi mahal. kerisnya bukan senjata biasa-biasa. hanya mereka yang bertaraf laksamana mampu mempunyai keris sedemikian rupa. mereka sudah bertarung garang semenjak kelam dinihari sehingga terang mula merajai alam. sekali-sekala, mereka bagaikan melayang saat menyerang atau mengelak serangan lawan. ibarat punya kesaktian tersendiri. masing-masing tidak terkalahkan. “engkau boleh bertahan sebegini lama ya! tidak hairanlah engkau mampu menumbangkan nama-nama besar di selatan ini!” saukan cuba mencapai kepalanya. dia tunduk tetapi dijamu pula dengan tujahan lutut lawan. tangkas dua lengan dinaikkan untuk mempertahankan diri. tubuhnya terangkat sekitar sehasta dari bumi. “tetapi engkau masih belum mampu menghadapi aku!”  tangan yang tadi cuba menyauk kepalanya, kini melawan arah dengan melepaskan pukulan silang. pantas dia mengangkat sebelah tangan dan kaki, mempertahankan kepala dan tubuh daripada menjadi mangsa. namun, serangan pantas itu berisi tenaga yang begitu tinggi, membuatkan dia terpelanting ke tepi sebelum bergolek beberapa kali di lantai bumi. bingkas dia bangkit dengan sebelah lutut dan tangan menongkat tubuh. lawannya membuka tari silat, bagaikan memancing untuk dia memulakan serangan. langkah si lawan itu kemas dan teratur. daripada buah-buah persilatannya, tidak mempamerkan sebarang kelemahan yang terbuka. tangannya perlahan-lahan beralun. seiring dia menarik nafas, tangan kiri merapati hadapan dada, sementara tangan kanan terjulur keluar. ibu jari dilipat ke dalam telapak sedang jari-jemari lain terbuka lurus. pandangan redupnya memerhati lawan. dia dan tetamu tanpa undangan itu telah bertukar puluhan jurus untuk beberapa ketika. “sudah bersedia untuk tamatkan pertembungan ini?”'"
            ],
            "application/vnd.google.colaboratory.intrinsic+json": {
              "type": "string"
            }
          },
          "metadata": {},
          "execution_count": 6
        }
      ]
    },
    {
      "cell_type": "code",
      "source": [
        "print(df['content'][1])"
      ],
      "metadata": {
        "colab": {
          "base_uri": "https://localhost:8080/"
        },
        "id": "pwl1K3uvnu7s",
        "outputId": "e9a50168-0351-46a3-c29d-3d3464de9935"
      },
      "execution_count": null,
      "outputs": [
        {
          "output_type": "stream",
          "name": "stdout",
          "text": [
            "angin menderu-deru, biasan pertembungan antara dia dan satu lembaga di hadapannya. semakin lama mereka bertarung, semakin jelas susuk lawannya itu. seorang lelaki, berwajah garang dengan misai dan janggut yang sedikit tebal. rambutnya pendek dan kemas, bertanjak megah, berpakaian pendekar yang diperbuat daripada kain yang terbaik lagi mahal. kerisnya bukan senjata biasa-biasa. hanya mereka yang bertaraf laksamana mampu mempunyai keris sedemikian rupa. mereka sudah bertarung garang semenjak kelam dinihari sehingga terang mula merajai alam. sekali-sekala, mereka bagaikan melayang saat menyerang atau mengelak serangan lawan. ibarat punya kesaktian tersendiri. masing-masing tidak terkalahkan. “engkau boleh bertahan sebegini lama ya! tidak hairanlah engkau mampu menumbangkan nama-nama besar di selatan ini!” saukan cuba mencapai kepalanya. dia tunduk tetapi dijamu pula dengan tujahan lutut lawan. tangkas dua lengan dinaikkan untuk mempertahankan diri. tubuhnya terangkat sekitar sehasta dari bumi. “tetapi engkau masih belum mampu menghadapi aku!”  tangan yang tadi cuba menyauk kepalanya, kini melawan arah dengan melepaskan pukulan silang. pantas dia mengangkat sebelah tangan dan kaki, mempertahankan kepala dan tubuh daripada menjadi mangsa. namun, serangan pantas itu berisi tenaga yang begitu tinggi, membuatkan dia terpelanting ke tepi sebelum bergolek beberapa kali di lantai bumi. bingkas dia bangkit dengan sebelah lutut dan tangan menongkat tubuh. lawannya membuka tari silat, bagaikan memancing untuk dia memulakan serangan. langkah si lawan itu kemas dan teratur. daripada buah-buah persilatannya, tidak mempamerkan sebarang kelemahan yang terbuka. tangannya perlahan-lahan beralun. seiring dia menarik nafas, tangan kiri merapati hadapan dada, sementara tangan kanan terjulur keluar. ibu jari dilipat ke dalam telapak sedang jari-jemari lain terbuka lurus. pandangan redupnya memerhati lawan. dia dan tetamu tanpa undangan itu telah bertukar puluhan jurus untuk beberapa ketika. “sudah bersedia untuk tamatkan pertembungan ini?”\n"
          ]
        }
      ]
    },
    {
      "cell_type": "code",
      "source": [
        "!pip install -q keras-nlp"
      ],
      "metadata": {
        "id": "fHndCWvXu2as",
        "colab": {
          "base_uri": "https://localhost:8080/"
        },
        "outputId": "15f55326-7812-45d9-f80d-9209a0fdcd57"
      },
      "execution_count": null,
      "outputs": [
        {
          "output_type": "stream",
          "name": "stdout",
          "text": [
            "\u001b[2K     \u001b[90m━━━━━━━━━━━━━━━━━━━━━━━━━━━━━━━━━━━━━━\u001b[0m \u001b[32m527.7/527.7 kB\u001b[0m \u001b[31m23.5 MB/s\u001b[0m eta \u001b[36m0:00:00\u001b[0m\n",
            "\u001b[2K     \u001b[90m━━━━━━━━━━━━━━━━━━━━━━━━━━━━━━━━━━━━━━━━\u001b[0m \u001b[32m6.0/6.0 MB\u001b[0m \u001b[31m97.7 MB/s\u001b[0m eta \u001b[36m0:00:00\u001b[0m\n",
            "\u001b[?25h"
          ]
        }
      ]
    },
    {
      "cell_type": "code",
      "source": [
        "import keras_nlp\n",
        "import tensorflow as tf\n",
        "from tensorflow import keras\n",
        "import time"
      ],
      "metadata": {
        "id": "9fqduZOBuv_V"
      },
      "execution_count": null,
      "outputs": []
    },
    {
      "cell_type": "code",
      "source": [
        "print(df['pantun'][1])"
      ],
      "metadata": {
        "colab": {
          "base_uri": "https://localhost:8080/"
        },
        "id": "6GJFNkHJFsg8",
        "outputId": "ef6e5aa6-82dc-4d88-ea2d-2f9c1cb7fb34"
      },
      "execution_count": null,
      "outputs": [
        {
          "output_type": "stream",
          "name": "stdout",
          "text": [
            "Tetak buluh panjang suluh,\r\n",
            "Mari jolok sarang penyengat;\r\n",
            "Angkat doa jari sepuluh,\r\n",
            "Doa minta biar selamat.\r\n"
          ]
        }
      ]
    },
    {
      "cell_type": "code",
      "source": [
        "\n",
        "preprocessor = keras_nlp.models.GPT2CausalLMPreprocessor.from_preset(\n",
        "    \"gpt2_base_en\",\n",
        "    sequence_length=128,\n",
        ")\n",
        "gpt2_lm = keras_nlp.models.GPT2CausalLM.from_preset(\n",
        "    \"gpt2_base_en\", preprocessor=preprocessor\n",
        ")"
      ],
      "metadata": {
        "colab": {
          "base_uri": "https://localhost:8080/"
        },
        "id": "PXoADyIBurc2",
        "outputId": "361bbd9b-85fa-488b-99c1-abb5b0330ec8"
      },
      "execution_count": null,
      "outputs": [
        {
          "output_type": "stream",
          "name": "stdout",
          "text": [
            "Downloading data from https://storage.googleapis.com/keras-nlp/models/gpt2_base_en/v1/vocab.json\n",
            "1042301/1042301 [==============================] - 0s 0us/step\n",
            "Downloading data from https://storage.googleapis.com/keras-nlp/models/gpt2_base_en/v1/merges.txt\n",
            "456318/456318 [==============================] - 0s 1us/step\n",
            "Downloading data from https://storage.googleapis.com/keras-nlp/models/gpt2_base_en/v1/model.h5\n",
            "497986112/497986112 [==============================] - 17s 0us/step\n"
          ]
        },
        {
          "output_type": "stream",
          "name": "stderr",
          "text": [
            "WARNING:tensorflow:The following Variables were used in a Lambda layer's call (tf.linalg.matmul), but are not present in its tracked objects:   <tf.Variable 'token_embedding/embeddings:0' shape=(50257, 768) dtype=float32>. This is a strong indication that the Lambda layer should be rewritten as a subclassed Layer.\n"
          ]
        }
      ]
    },
    {
      "cell_type": "code",
      "source": [
        "start = time.time()\n",
        "\n",
        "output = gpt2_lm.generate(\"My trip to Kuala Lumpur was so annoying\", max_length=200)\n",
        "print(\"\\nGPT-2 output:\")\n",
        "print(output)\n",
        "\n",
        "end = time.time()\n",
        "print(f\"TOTAL TIME ELAPSED: {end - start:.2f}s\")"
      ],
      "metadata": {
        "colab": {
          "base_uri": "https://localhost:8080/"
        },
        "id": "Ud9I5k0VvLHi",
        "outputId": "dee49c95-5df2-46a8-da30-162cc33e1656"
      },
      "execution_count": null,
      "outputs": [
        {
          "output_type": "stream",
          "name": "stdout",
          "text": [
            "\n",
            "GPT-2 output:\n",
            "My trip to Kuala Lumpur was so annoying and so boring, I was just too busy to do much with my life. It was so much more fun than it was enjoyable.\n",
            "\n",
            "So, I decided to try to make a trip to Malaysia, and here it is.\n",
            "\n",
            "I have a great time in Malaysia, it's a beautiful country. I am really happy and I am really happy that I am here. I feel very lucky and lucky to be in Kuala Lumpur.\n",
            "\n",
            "I am really happy that I can visit the city of Kuala Lumpur and I am so happy to see the people of Kuala Lumpur. They are so wonderful, they are so friendly and I love it.\n",
            "\n",
            "So, I am really happy that I can go to Malaysia.\n",
            "\n",
            "So, I am really happy that I can see all the beautiful things that Malaysia does. I feel so lucky.\n",
            "\n",
            "I feel like I'm living in a dream and I can see all the beautiful things that\n",
            "TOTAL TIME ELAPSED: 33.73s\n"
          ]
        }
      ]
    },
    {
      "cell_type": "code",
      "source": [
        "train_ds = (\n",
        "    tf.data.Dataset.from_tensor_slices(df['content'])\n",
        "    .batch(8)\n",
        "    .cache()\n",
        "    .prefetch(tf.data.AUTOTUNE)\n",
        ")\n",
        "\n",
        "# Running through the whole dataset takes long, only take `500` and run 1\n",
        "# epochs for demo purposes.\n",
        "train_ds = train_ds.take(500)\n",
        "num_epochs = 15\n",
        "\n",
        "learning_rate = keras.optimizers.schedules.PolynomialDecay(\n",
        "    5e-4,\n",
        "    decay_steps=train_ds.cardinality() * num_epochs,\n",
        "    end_learning_rate=0.0,\n",
        ")\n",
        "loss = keras.losses.SparseCategoricalCrossentropy(from_logits=True)\n",
        "gpt2_lm.compile(\n",
        "    optimizer=keras.optimizers.Adam(learning_rate),\n",
        "    loss=loss,\n",
        "    weighted_metrics=[\"accuracy\"],\n",
        ")\n",
        "\n",
        "gpt2_lm.fit(train_ds, epochs=num_epochs)"
      ],
      "metadata": {
        "colab": {
          "base_uri": "https://localhost:8080/"
        },
        "id": "kEnR30ZdwNDx",
        "outputId": "41e4f719-22e6-4c33-c157-298eb701a758"
      },
      "execution_count": null,
      "outputs": [
        {
          "output_type": "stream",
          "name": "stdout",
          "text": [
            "Epoch 1/15\n",
            "11/11 [==============================] - 104s 4s/step - loss: 5.5302 - accuracy: 0.1038\n",
            "Epoch 2/15\n",
            "11/11 [==============================] - 4s 316ms/step - loss: 4.0761 - accuracy: 0.2201\n",
            "Epoch 3/15\n",
            "11/11 [==============================] - 4s 336ms/step - loss: 3.4113 - accuracy: 0.3034\n",
            "Epoch 4/15\n",
            "11/11 [==============================] - 4s 351ms/step - loss: 2.8893 - accuracy: 0.3728\n",
            "Epoch 5/15\n",
            "11/11 [==============================] - 4s 346ms/step - loss: 2.4738 - accuracy: 0.4341\n",
            "Epoch 6/15\n",
            "11/11 [==============================] - 4s 310ms/step - loss: 2.1245 - accuracy: 0.4952\n",
            "Epoch 7/15\n",
            "11/11 [==============================] - 4s 290ms/step - loss: 1.8037 - accuracy: 0.5488\n",
            "Epoch 8/15\n",
            "11/11 [==============================] - 3s 294ms/step - loss: 1.5533 - accuracy: 0.5982\n",
            "Epoch 9/15\n",
            "11/11 [==============================] - 4s 384ms/step - loss: 1.3197 - accuracy: 0.6529\n",
            "Epoch 10/15\n",
            "11/11 [==============================] - 4s 311ms/step - loss: 1.1070 - accuracy: 0.7026\n",
            "Epoch 11/15\n",
            "11/11 [==============================] - 4s 292ms/step - loss: 0.9055 - accuracy: 0.7470\n",
            "Epoch 12/15\n",
            "11/11 [==============================] - 4s 339ms/step - loss: 0.7683 - accuracy: 0.7847\n",
            "Epoch 13/15\n",
            "11/11 [==============================] - 4s 318ms/step - loss: 0.6639 - accuracy: 0.8149\n",
            "Epoch 14/15\n",
            "11/11 [==============================] - 4s 369ms/step - loss: 0.5611 - accuracy: 0.8391\n",
            "Epoch 15/15\n",
            "11/11 [==============================] - 4s 337ms/step - loss: 0.4947 - accuracy: 0.8637\n"
          ]
        },
        {
          "output_type": "execute_result",
          "data": {
            "text/plain": [
              "<keras.callbacks.History at 0x7fda16d020b0>"
            ]
          },
          "metadata": {},
          "execution_count": 13
        }
      ]
    },
    {
      "cell_type": "code",
      "source": [
        "output = gpt2_lm.generate(\"raja dan permaisuri\", max_length=200)\n",
        "print(output)"
      ],
      "metadata": {
        "colab": {
          "base_uri": "https://localhost:8080/"
        },
        "id": "ND4sHXCPwWCG",
        "outputId": "86aa4fe2-31b6-4658-c7cf-64acdec99b71"
      },
      "execution_count": null,
      "outputs": [
        {
          "output_type": "stream",
          "name": "stdout",
          "text": [
            "raja dan permaisuri menembusi bahtera megah itu terus melilau memerhatikan keadaan sekebun serendah.sebentar mengembara bagaikan tidak pasti mengungutkan darah.sebentar tadi terseret separuh depa ke belakang, sebuah gunung nan tinggi.tiga indah menemangnya bertahun-tahun dilatih adiwaja. tidak kira dan tidak terlalu say\n"
          ]
        }
      ]
    },
    {
      "cell_type": "code",
      "source": [
        "output"
      ],
      "metadata": {
        "colab": {
          "base_uri": "https://localhost:8080/",
          "height": 55
        },
        "id": "NocXc3jiwOqd",
        "outputId": "6ff61d1e-35b9-4e58-9aaa-01303cbd1589"
      },
      "execution_count": null,
      "outputs": [
        {
          "output_type": "execute_result",
          "data": {
            "text/plain": [
              "'raja dan permaisuri menembusi bahtera megah itu terus melilau memerhatikan keadaan sekebun serendah.sebentar mengembara bagaikan tidak pasti mengungutkan darah.sebentar tadi terseret separuh depa ke belakang, sebuah gunung nan tinggi.tiga indah menemangnya bertahun-tahun dilatih adiwaja. tidak kira dan tidak terlalu say'"
            ],
            "application/vnd.google.colaboratory.intrinsic+json": {
              "type": "string"
            }
          },
          "metadata": {},
          "execution_count": 18
        }
      ]
    },
    {
      "cell_type": "code",
      "source": [
        "gpt2_lm.save(\"model.h5\")\n"
      ],
      "metadata": {
        "colab": {
          "base_uri": "https://localhost:8080/",
          "height": 325
        },
        "id": "noGb9jTXs44_",
        "outputId": "cf4d4179-f90b-4d52-e6f2-5fc29ea79d13"
      },
      "execution_count": null,
      "outputs": [
        {
          "output_type": "error",
          "ename": "TypeError",
          "evalue": "ignored",
          "traceback": [
            "\u001b[0;31m---------------------------------------------------------------------------\u001b[0m",
            "\u001b[0;31mTypeError\u001b[0m                                 Traceback (most recent call last)",
            "\u001b[0;32m<ipython-input-19-036cd84bfa82>\u001b[0m in \u001b[0;36m<cell line: 1>\u001b[0;34m()\u001b[0m\n\u001b[0;32m----> 1\u001b[0;31m \u001b[0mgpt2_lm\u001b[0m\u001b[0;34m.\u001b[0m\u001b[0msave\u001b[0m\u001b[0;34m(\u001b[0m\u001b[0;34m\"model.h5\"\u001b[0m\u001b[0;34m)\u001b[0m\u001b[0;34m\u001b[0m\u001b[0;34m\u001b[0m\u001b[0m\n\u001b[0m",
            "\u001b[0;32m/usr/local/lib/python3.10/dist-packages/keras/utils/traceback_utils.py\u001b[0m in \u001b[0;36merror_handler\u001b[0;34m(*args, **kwargs)\u001b[0m\n\u001b[1;32m     68\u001b[0m             \u001b[0;31m# To get the full stack trace, call:\u001b[0m\u001b[0;34m\u001b[0m\u001b[0;34m\u001b[0m\u001b[0m\n\u001b[1;32m     69\u001b[0m             \u001b[0;31m# `tf.debugging.disable_traceback_filtering()`\u001b[0m\u001b[0;34m\u001b[0m\u001b[0;34m\u001b[0m\u001b[0m\n\u001b[0;32m---> 70\u001b[0;31m             \u001b[0;32mraise\u001b[0m \u001b[0me\u001b[0m\u001b[0;34m.\u001b[0m\u001b[0mwith_traceback\u001b[0m\u001b[0;34m(\u001b[0m\u001b[0mfiltered_tb\u001b[0m\u001b[0;34m)\u001b[0m \u001b[0;32mfrom\u001b[0m \u001b[0;32mNone\u001b[0m\u001b[0;34m\u001b[0m\u001b[0;34m\u001b[0m\u001b[0m\n\u001b[0m\u001b[1;32m     71\u001b[0m         \u001b[0;32mfinally\u001b[0m\u001b[0;34m:\u001b[0m\u001b[0;34m\u001b[0m\u001b[0;34m\u001b[0m\u001b[0m\n\u001b[1;32m     72\u001b[0m             \u001b[0;32mdel\u001b[0m \u001b[0mfiltered_tb\u001b[0m\u001b[0;34m\u001b[0m\u001b[0;34m\u001b[0m\u001b[0m\n",
            "\u001b[0;32m/usr/lib/python3.10/json/__init__.py\u001b[0m in \u001b[0;36mdumps\u001b[0;34m(obj, skipkeys, ensure_ascii, check_circular, allow_nan, cls, indent, separators, default, sort_keys, **kw)\u001b[0m\n\u001b[1;32m    236\u001b[0m         \u001b[0mcheck_circular\u001b[0m\u001b[0;34m=\u001b[0m\u001b[0mcheck_circular\u001b[0m\u001b[0;34m,\u001b[0m \u001b[0mallow_nan\u001b[0m\u001b[0;34m=\u001b[0m\u001b[0mallow_nan\u001b[0m\u001b[0;34m,\u001b[0m \u001b[0mindent\u001b[0m\u001b[0;34m=\u001b[0m\u001b[0mindent\u001b[0m\u001b[0;34m,\u001b[0m\u001b[0;34m\u001b[0m\u001b[0;34m\u001b[0m\u001b[0m\n\u001b[1;32m    237\u001b[0m         \u001b[0mseparators\u001b[0m\u001b[0;34m=\u001b[0m\u001b[0mseparators\u001b[0m\u001b[0;34m,\u001b[0m \u001b[0mdefault\u001b[0m\u001b[0;34m=\u001b[0m\u001b[0mdefault\u001b[0m\u001b[0;34m,\u001b[0m \u001b[0msort_keys\u001b[0m\u001b[0;34m=\u001b[0m\u001b[0msort_keys\u001b[0m\u001b[0;34m,\u001b[0m\u001b[0;34m\u001b[0m\u001b[0;34m\u001b[0m\u001b[0m\n\u001b[0;32m--> 238\u001b[0;31m         **kw).encode(obj)\n\u001b[0m\u001b[1;32m    239\u001b[0m \u001b[0;34m\u001b[0m\u001b[0m\n\u001b[1;32m    240\u001b[0m \u001b[0;34m\u001b[0m\u001b[0m\n",
            "\u001b[0;32m/usr/lib/python3.10/json/encoder.py\u001b[0m in \u001b[0;36mencode\u001b[0;34m(self, o)\u001b[0m\n\u001b[1;32m    197\u001b[0m         \u001b[0;31m# exceptions aren't as detailed.  The list call should be roughly\u001b[0m\u001b[0;34m\u001b[0m\u001b[0;34m\u001b[0m\u001b[0m\n\u001b[1;32m    198\u001b[0m         \u001b[0;31m# equivalent to the PySequence_Fast that ''.join() would do.\u001b[0m\u001b[0;34m\u001b[0m\u001b[0;34m\u001b[0m\u001b[0m\n\u001b[0;32m--> 199\u001b[0;31m         \u001b[0mchunks\u001b[0m \u001b[0;34m=\u001b[0m \u001b[0mself\u001b[0m\u001b[0;34m.\u001b[0m\u001b[0miterencode\u001b[0m\u001b[0;34m(\u001b[0m\u001b[0mo\u001b[0m\u001b[0;34m,\u001b[0m \u001b[0m_one_shot\u001b[0m\u001b[0;34m=\u001b[0m\u001b[0;32mTrue\u001b[0m\u001b[0;34m)\u001b[0m\u001b[0;34m\u001b[0m\u001b[0;34m\u001b[0m\u001b[0m\n\u001b[0m\u001b[1;32m    200\u001b[0m         \u001b[0;32mif\u001b[0m \u001b[0;32mnot\u001b[0m \u001b[0misinstance\u001b[0m\u001b[0;34m(\u001b[0m\u001b[0mchunks\u001b[0m\u001b[0;34m,\u001b[0m \u001b[0;34m(\u001b[0m\u001b[0mlist\u001b[0m\u001b[0;34m,\u001b[0m \u001b[0mtuple\u001b[0m\u001b[0;34m)\u001b[0m\u001b[0;34m)\u001b[0m\u001b[0;34m:\u001b[0m\u001b[0;34m\u001b[0m\u001b[0;34m\u001b[0m\u001b[0m\n\u001b[1;32m    201\u001b[0m             \u001b[0mchunks\u001b[0m \u001b[0;34m=\u001b[0m \u001b[0mlist\u001b[0m\u001b[0;34m(\u001b[0m\u001b[0mchunks\u001b[0m\u001b[0;34m)\u001b[0m\u001b[0;34m\u001b[0m\u001b[0;34m\u001b[0m\u001b[0m\n",
            "\u001b[0;32m/usr/lib/python3.10/json/encoder.py\u001b[0m in \u001b[0;36miterencode\u001b[0;34m(self, o, _one_shot)\u001b[0m\n\u001b[1;32m    255\u001b[0m                 \u001b[0mself\u001b[0m\u001b[0;34m.\u001b[0m\u001b[0mkey_separator\u001b[0m\u001b[0;34m,\u001b[0m \u001b[0mself\u001b[0m\u001b[0;34m.\u001b[0m\u001b[0mitem_separator\u001b[0m\u001b[0;34m,\u001b[0m \u001b[0mself\u001b[0m\u001b[0;34m.\u001b[0m\u001b[0msort_keys\u001b[0m\u001b[0;34m,\u001b[0m\u001b[0;34m\u001b[0m\u001b[0;34m\u001b[0m\u001b[0m\n\u001b[1;32m    256\u001b[0m                 self.skipkeys, _one_shot)\n\u001b[0;32m--> 257\u001b[0;31m         \u001b[0;32mreturn\u001b[0m \u001b[0m_iterencode\u001b[0m\u001b[0;34m(\u001b[0m\u001b[0mo\u001b[0m\u001b[0;34m,\u001b[0m \u001b[0;36m0\u001b[0m\u001b[0;34m)\u001b[0m\u001b[0;34m\u001b[0m\u001b[0;34m\u001b[0m\u001b[0m\n\u001b[0m\u001b[1;32m    258\u001b[0m \u001b[0;34m\u001b[0m\u001b[0m\n\u001b[1;32m    259\u001b[0m def _make_iterencode(markers, _default, _encoder, _indent, _floatstr,\n",
            "\u001b[0;31mTypeError\u001b[0m: Unable to serialize 165 to JSON. Unrecognized type <class 'tensorflow.python.framework.ops.EagerTensor'>."
          ]
        }
      ]
    },
    {
      "cell_type": "code",
      "source": [
        "# Save model architecture\n",
        "model_json = gpt2_lm.to_json()\n",
        "with open(\"gpt2_lm.json\", \"w\") as json_file:\n",
        "    json_file.write(gpt2_lm)\n",
        "\n",
        "# Save model weights\n",
        "gpt2_lm.save_weights(\"model_weights.h5\")"
      ],
      "metadata": {
        "colab": {
          "base_uri": "https://localhost:8080/",
          "height": 246
        },
        "id": "yCBWbpzQtCAt",
        "outputId": "5946a847-263a-4a6f-dd3e-514264d7601a"
      },
      "execution_count": null,
      "outputs": [
        {
          "output_type": "error",
          "ename": "TypeError",
          "evalue": "ignored",
          "traceback": [
            "\u001b[0;31m---------------------------------------------------------------------------\u001b[0m",
            "\u001b[0;31mTypeError\u001b[0m                                 Traceback (most recent call last)",
            "\u001b[0;32m<ipython-input-21-be760c0dfc4b>\u001b[0m in \u001b[0;36m<cell line: 3>\u001b[0;34m()\u001b[0m\n\u001b[1;32m      2\u001b[0m \u001b[0mmodel_json\u001b[0m \u001b[0;34m=\u001b[0m \u001b[0mgpt2_lm\u001b[0m\u001b[0;34m.\u001b[0m\u001b[0mto_json\u001b[0m\u001b[0;34m(\u001b[0m\u001b[0;34m)\u001b[0m\u001b[0;34m\u001b[0m\u001b[0;34m\u001b[0m\u001b[0m\n\u001b[1;32m      3\u001b[0m \u001b[0;32mwith\u001b[0m \u001b[0mopen\u001b[0m\u001b[0;34m(\u001b[0m\u001b[0;34m\"gpt2_lm.json\"\u001b[0m\u001b[0;34m,\u001b[0m \u001b[0;34m\"w\"\u001b[0m\u001b[0;34m)\u001b[0m \u001b[0;32mas\u001b[0m \u001b[0mjson_file\u001b[0m\u001b[0;34m:\u001b[0m\u001b[0;34m\u001b[0m\u001b[0;34m\u001b[0m\u001b[0m\n\u001b[0;32m----> 4\u001b[0;31m     \u001b[0mjson_file\u001b[0m\u001b[0;34m.\u001b[0m\u001b[0mwrite\u001b[0m\u001b[0;34m(\u001b[0m\u001b[0mgpt2_lm\u001b[0m\u001b[0;34m)\u001b[0m\u001b[0;34m\u001b[0m\u001b[0;34m\u001b[0m\u001b[0m\n\u001b[0m\u001b[1;32m      5\u001b[0m \u001b[0;34m\u001b[0m\u001b[0m\n\u001b[1;32m      6\u001b[0m \u001b[0;31m# Save model weights\u001b[0m\u001b[0;34m\u001b[0m\u001b[0;34m\u001b[0m\u001b[0m\n",
            "\u001b[0;31mTypeError\u001b[0m: write() argument must be str, not GPT2CausalLM"
          ]
        }
      ]
    }
  ]
}